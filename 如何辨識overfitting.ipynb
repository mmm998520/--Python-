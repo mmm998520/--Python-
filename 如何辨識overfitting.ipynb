{
 "cells": [
  {
   "cell_type": "markdown",
   "metadata": {},
   "source": [
    "## 何謂overfitting\n",
    "回歸線過度趨近測試值(背答案)，導致回歸線失去預測能力(遇到新的題目)\n"
   ]
  },
  {
   "cell_type": "code",
   "execution_count": 1,
   "metadata": {},
   "outputs": [],
   "source": [
    "%matplotlib inline\n",
    "import numpy as np\n",
    "import matplotlib.pyplot as plt"
   ]
  },
  {
   "cell_type": "code",
   "execution_count": 2,
   "metadata": {},
   "outputs": [],
   "source": [
    "x = np.linspace(0,5,100)\n",
    "y = 1.2 * x + 0.8 +0.5 * np.random.randn(100)"
   ]
  },
  {
   "cell_type": "code",
   "execution_count": 3,
   "metadata": {},
   "outputs": [
    {
     "data": {
      "text/plain": [
       "<matplotlib.collections.PathCollection at 0x2a5c27e65c8>"
      ]
     },
     "execution_count": 3,
     "metadata": {},
     "output_type": "execute_result"
    },
    {
     "data": {
      "image/png": "[encoded data removed]",
      "text/plain": [
       "<Figure size 432x288 with 1 Axes>"
      ]
     },
     "metadata": {
      "needs_background": "light"
     },
     "output_type": "display_data"
    }
   ],
   "source": [
    "plt.scatter(x,y)"
   ]
  },
  {
   "cell_type": "markdown",
   "metadata": {},
   "source": [
    "## 如何得知發生overfitting\n",
    "將資料區分成 \"訓練資料\"、\"測試資料\" 兩類"
   ]
  },
  {
   "cell_type": "code",
   "execution_count": 4,
   "metadata": {},
   "outputs": [],
   "source": [
    "from sklearn.model_selection import train_test_split"
   ]
  },
  {
   "cell_type": "code",
   "execution_count": 5,
   "metadata": {},
   "outputs": [],
   "source": [
    "x_train,x_test,y_train,y_test = train_test_split(x,y,\n",
    "                                                 test_size = 0.2,#將多少比例劃分成測試資料\n",
    "                                                 random_state = 80#隨機化數值(隨便就好)\n",
    "                                                 )"
   ]
  },
  {
   "cell_type": "code",
   "execution_count": 6,
   "metadata": {},
   "outputs": [
    {
     "name": "stdout",
     "output_type": "stream",
     "text": [
      "x_train:80,x_test:20,y_train:80,y_test:20\n"
     ]
    }
   ],
   "source": [
    "print(\"x_train:{},x_test:{},y_train:{},y_test:{}\".format(len(x_train),len(x_test),len(y_train),len(y_test)))"
   ]
  },
  {
   "cell_type": "code",
   "execution_count": 7,
   "metadata": {},
   "outputs": [],
   "source": [
    "x_train = x_train.reshape(80,1)\n",
    "x_test.shape=(20,1)"
   ]
  },
  {
   "cell_type": "code",
   "execution_count": 8,
   "metadata": {},
   "outputs": [],
   "source": [
    "from sklearn.linear_model import LinearRegression"
   ]
  },
  {
   "cell_type": "code",
   "execution_count": 9,
   "metadata": {},
   "outputs": [],
   "source": [
    "regr = LinearRegression()"
   ]
  },
  {
   "cell_type": "code",
   "execution_count": 10,
   "metadata": {},
   "outputs": [
    {
     "data": {
      "text/plain": [
       "LinearRegression(copy_X=True, fit_intercept=True, n_jobs=None, normalize=False)"
      ]
     },
     "execution_count": 10,
     "metadata": {},
     "output_type": "execute_result"
    }
   ],
   "source": [
    "regr.fit(x_train,y_train)"
   ]
  },
  {
   "cell_type": "markdown",
   "metadata": {},
   "source": [
    "## 用測試資料判斷涵是有沒有問題"
   ]
  },
  {
   "cell_type": "code",
   "execution_count": 11,
   "metadata": {},
   "outputs": [
    {
     "data": {
      "text/plain": [
       "array([1.54577982, 3.23039061, 1.42099383, 5.41414535, 6.28764725,\n",
       "       1.48338682, 0.8594569 , 2.29449573, 6.84918418, 5.53893134,\n",
       "       1.60817281, 4.41585747, 3.47996258, 6.78679119, 3.72953455,\n",
       "       1.10902887, 2.73124667, 2.5440677 , 6.91157717, 4.66542944,\n",
       "       6.41243323, 4.60303645, 5.97568228, 1.92013777, 2.10731675,\n",
       "       2.4816747 , 2.04492376, 4.54064346, 3.79192755, 6.16286126,\n",
       "       6.22525425, 2.35688872, 5.47653834, 5.10218039, 2.41928171,\n",
       "       5.66371732, 5.35175236, 4.91500141, 2.66885368, 1.98253076,\n",
       "       3.29278361, 1.73295879, 4.29107149, 4.1662855 , 4.10389251,\n",
       "       1.79535179, 0.79706391, 4.9773944 , 2.23210273, 6.47482622,\n",
       "       3.60474857, 5.8508963 , 6.72439819, 3.16799762, 6.53721922,\n",
       "       6.35004024, 4.22867849, 5.0397874 , 1.17142186, 1.23381485,\n",
       "       5.60132433, 2.91842565, 6.59961221, 3.91671353, 0.98424288,\n",
       "       3.3551766 , 1.29620785, 4.72782243, 1.04663588, 5.78850331,\n",
       "       1.6705658 , 2.16970974, 6.10046827, 0.92184989, 3.85432054,\n",
       "       1.35860084, 5.91328929, 3.10560463, 4.47825046, 3.66714156])"
      ]
     },
     "execution_count": 11,
     "metadata": {},
     "output_type": "execute_result"
    }
   ],
   "source": [
    "regr.predict(x_train)"
   ]
  },
  {
   "cell_type": "code",
   "execution_count": 12,
   "metadata": {},
   "outputs": [
    {
     "data": {
      "text/plain": [
       "array([1.67520068, 3.65401131, 1.63527036, 4.80508888, 5.74521737,\n",
       "       1.89438348, 1.3930789 , 2.4496264 , 7.31225034, 5.1328668 ,\n",
       "       1.08121479, 4.0919043 , 3.0396829 , 7.15859202, 4.38368069,\n",
       "       1.61646712, 2.90168063, 2.66256763, 7.16664518, 3.61086369,\n",
       "       6.67659751, 4.738198  , 6.21059042, 1.66220429, 2.04390262,\n",
       "       3.1816909 , 2.3512335 , 4.32033915, 4.13116873, 5.87517234,\n",
       "       5.23811638, 2.16035553, 5.79876858, 5.29161899, 2.30040642,\n",
       "       5.36040808, 5.57105124, 5.37801765, 2.6370281 , 1.86285459,\n",
       "       2.7240215 , 2.16781168, 4.3884522 , 4.57550376, 4.53284828,\n",
       "       2.66953487, 2.0054853 , 4.9904044 , 1.84823566, 6.7504008 ,\n",
       "       3.96383349, 5.26167494, 6.86737368, 2.89513529, 6.77002888,\n",
       "       5.79355205, 5.43982371, 4.03293857, 0.99444538, 1.15310675,\n",
       "       5.14257289, 1.85651254, 7.96754996, 3.42580164, 0.77200438,\n",
       "       2.97261471, 1.02187453, 5.46625464, 0.20926737, 6.31285638,\n",
       "       1.09704776, 2.22226879, 6.42539667, 0.28696343, 4.36434057,\n",
       "       1.60355617, 5.64127936, 2.50890455, 3.78301224, 3.25120958])"
      ]
     },
     "execution_count": 12,
     "metadata": {},
     "output_type": "execute_result"
    }
   ],
   "source": [
    "y_train"
   ]
  },
  {
   "cell_type": "code",
   "execution_count": 13,
   "metadata": {},
   "outputs": [
    {
     "data": {
      "text/plain": [
       "[<matplotlib.lines.Line2D at 0x2a5c6e73b48>]"
      ]
     },
     "execution_count": 13,
     "metadata": {},
     "output_type": "execute_result"
    },
    {
     "data": {
      "image/png": "[encoded data removed]",
      "text/plain": [
       "<Figure size 432x288 with 1 Axes>"
      ]
     },
     "metadata": {
      "needs_background": "light"
     },
     "output_type": "display_data"
    }
   ],
   "source": [
    "plt.scatter(x_train,y_train)#真實的點\n",
    "plt.scatter(x_train,regr.predict(x_train))#預測的點\n",
    "plt.plot(x_train,regr.predict(x_train),'r')"
   ]
  },
  {
   "cell_type": "code",
   "execution_count": 14,
   "metadata": {},
   "outputs": [
    {
     "data": {
      "text/plain": [
       "[<matplotlib.lines.Line2D at 0x2a5c8250a48>]"
      ]
     },
     "execution_count": 14,
     "metadata": {},
     "output_type": "execute_result"
    },
    {
     "data": {
      "image/png": "[encoded data removed]",
      "text/plain": [
       "<Figure size 432x288 with 1 Axes>"
      ]
     },
     "metadata": {
      "needs_background": "light"
     },
     "output_type": "display_data"
    }
   ],
   "source": [
    "plt.scatter(x_test,y_test)#真實的點\n",
    "plt.scatter(x_test,regr.predict(x_test))# 預測的點\n",
    "plt.plot(x_test,regr.predict(x_test),'r')"
   ]
  },
  {
   "cell_type": "code",
   "execution_count": null,
   "metadata": {},
   "outputs": [],
   "source": []
  }
 ],
 "metadata": {
  "kernelspec": {
   "display_name": "Python 3",
   "language": "python",
   "name": "python3"
  },
  "language_info": {
   "codemirror_mode": {
    "name": "ipython",
    "version": 3
   },
   "file_extension": ".py",
   "mimetype": "text/x-python",
   "name": "python",
   "nbconvert_exporter": "python",
   "pygments_lexer": "ipython3",
   "version": "3.7.4"
  }
 },
 "nbformat": 4,
 "nbformat_minor": 2
}
