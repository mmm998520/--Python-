{
 "cells": [
  {
   "cell_type": "code",
   "execution_count": 1,
   "metadata": {},
   "outputs": [
    {
     "name": "stdout",
     "output_type": "stream",
     "text": [
      "env: KERAS_BACKEND=tensorflow\n"
     ]
    }
   ],
   "source": [
    "%env KERAS_BACKEND = tensorflow"
   ]
  },
  {
   "cell_type": "code",
   "execution_count": 2,
   "metadata": {},
   "outputs": [],
   "source": [
    "%matplotlib inline\n",
    "import numpy as np\n",
    "import matplotlib.pyplot as plt"
   ]
  },
  {
   "cell_type": "code",
   "execution_count": 3,
   "metadata": {},
   "outputs": [
    {
     "name": "stderr",
     "output_type": "stream",
     "text": [
      "Using TensorFlow backend.\n"
     ]
    }
   ],
   "source": [
    "from keras.datasets import mnist"
   ]
  },
  {
   "cell_type": "code",
   "execution_count": 4,
   "metadata": {},
   "outputs": [],
   "source": [
    "(x_train,y_train),(x_test,y_test) = mnist.load_data()"
   ]
  },
  {
   "cell_type": "code",
   "execution_count": 5,
   "metadata": {},
   "outputs": [
    {
     "data": {
      "text/plain": [
       "60000"
      ]
     },
     "execution_count": 5,
     "metadata": {},
     "output_type": "execute_result"
    }
   ],
   "source": [
    "len(x_train)"
   ]
  },
  {
   "cell_type": "code",
   "execution_count": 6,
   "metadata": {},
   "outputs": [
    {
     "data": {
      "text/plain": [
       "60000"
      ]
     },
     "execution_count": 6,
     "metadata": {},
     "output_type": "execute_result"
    }
   ],
   "source": [
    "len(y_train)"
   ]
  },
  {
   "cell_type": "code",
   "execution_count": 7,
   "metadata": {},
   "outputs": [
    {
     "data": {
      "text/plain": [
       "10000"
      ]
     },
     "execution_count": 7,
     "metadata": {},
     "output_type": "execute_result"
    }
   ],
   "source": [
    "len(x_test)"
   ]
  },
  {
   "cell_type": "code",
   "execution_count": 8,
   "metadata": {},
   "outputs": [
    {
     "data": {
      "text/plain": [
       "10000"
      ]
     },
     "execution_count": 8,
     "metadata": {},
     "output_type": "execute_result"
    }
   ],
   "source": [
    "len(y_test)"
   ]
  },
  {
   "cell_type": "code",
   "execution_count": 9,
   "metadata": {},
   "outputs": [
    {
     "data": {
      "text/plain": [
       "(28, 28)"
      ]
     },
     "execution_count": 9,
     "metadata": {},
     "output_type": "execute_result"
    }
   ],
   "source": [
    "x_train[4414].shape"
   ]
  },
  {
   "cell_type": "code",
   "execution_count": 10,
   "metadata": {},
   "outputs": [
    {
     "data": {
      "text/plain": [
       "array([[  0,   0,   0,   0,   0,   0,   0,   0,   0,   0,   0,   0,   0,\n",
       "          0,   0,   0,   0,   0,   0,   0,   0,   0,   0,   0,   0,   0,\n",
       "          0,   0],\n",
       "       [  0,   0,   0,   0,   0,   0,   0,   0,   0,   0,   0,   0,   0,\n",
       "          0,   0,   0,   0,   0,   0,   0,   0,   0,   0,   0,   0,   0,\n",
       "          0,   0],\n",
       "       [  0,   0,   0,   0,   0,   0,   0,   0,   0,   0,   0,   0,   0,\n",
       "          0,   0,   0,   0,   0,   0,   0,   0,   0,   0,   0,   0,   0,\n",
       "          0,   0],\n",
       "       [  0,   0,   0,   0,   0,   0,   0,   0,   7, 174, 253, 253, 174,\n",
       "         68,   0,   0,   0,   0,   0,   0,   0,   0,   0,   0,   0,   0,\n",
       "          0,   0],\n",
       "       [  0,   0,   0,   0,   0,   0,   0,   0,  15, 252, 252, 252, 252,\n",
       "        236, 171,   0,   0,   0,   0,   0,   0,   0,   0,   0,   0,   0,\n",
       "          0,   0],\n",
       "       [  0,   0,   0,   0,   0,   0,   0,   0,   6,  88,  88, 193, 245,\n",
       "        252, 236,  67,   0,   0,   0,   0,   0,   0,   0,   0,   0,   0,\n",
       "          0,   0],\n",
       "       [  0,   0,   0,   0,   0,   0,   0,   0,   0,   0,   0,   0,  71,\n",
       "        245, 252, 103,   0,   0,   0,   0,   0,   0,   0,   0,   0,   0,\n",
       "          0,   0],\n",
       "       [  0,   0,   0,   0,   0,   0,   0,   0,   0,   0,   0,   0,   0,\n",
       "        238, 252, 235,   0,   0,   0,   0,   0,   0,   0,   0,   0,   0,\n",
       "          0,   0],\n",
       "       [  0,   0,   0,   0,   0,   0,   0,   0,   0,   0,   0,   0,   0,\n",
       "        238, 252, 252,  18,   0,   0,   0,   0,   0,   0,   0,   0,   0,\n",
       "          0,   0],\n",
       "       [  0,   0,   0,   0,   0,   0,   0,   0,   0,   0,   0,   0,   0,\n",
       "        159, 252, 252, 149,   0,   0,   0,   0,   0,   0,   0,   0,   0,\n",
       "          0,   0],\n",
       "       [  0,   0,   0,   0,   0,   0,   0,   0,   0,   0,   0,   0,   0,\n",
       "          5, 196, 252, 149,   0,   0,   0,   0,   0,   0,   0,   0,   0,\n",
       "          0,   0],\n",
       "       [  0,   0,   0,   0,   0,   0,   0,   0,   0,   0,   0,   0,   0,\n",
       "          0, 193, 252, 167,   8,   0,   0,   0,   0,   0,   0,   0,   0,\n",
       "          0,   0],\n",
       "       [  0,   0,   0,   0,   0,   0,   0,   0,   0,   0,   0,   0,   0,\n",
       "          0, 106, 252, 253,  44,   0,   0,   0,   0,   0,   0,   0,   0,\n",
       "          0,   0],\n",
       "       [  0,   0,   0,   0,   0,   0,   0,   0,   0,   0,   0,   0,   0,\n",
       "          0, 107, 253, 255, 106,   0,   0,   0,   0,   0,   0,   0,   0,\n",
       "          0,   0],\n",
       "       [  0,   0,   0,   0,   0,   0,   0,   0,   0,   0,   0,   0,   0,\n",
       "         22, 207, 252, 253, 241, 208, 138,  60,  60,  60,   4,   0,   0,\n",
       "          0,   0],\n",
       "       [  0,   0,   0,   0,   0,   0,   0,   0,   0,   0,   0,  11,  95,\n",
       "        195, 252, 252, 253, 252, 252, 252, 252, 252, 252, 168,  38,   0,\n",
       "          0,   0],\n",
       "       [  0,   0,   0,   0,   0,   0,   0,   0,   0,   0,  36, 213, 252,\n",
       "        252, 252, 252, 253, 252, 252, 252, 181, 252, 252, 209,  31,   0,\n",
       "          0,   0],\n",
       "       [  0,   0,   0,   0,   0,   0,   0,   0,   0, 106, 232, 252, 252,\n",
       "        252, 252, 252, 117,  29,  29,  29,  12,  29,  29,  19,   0,   0,\n",
       "          0,   0],\n",
       "       [  0,   0,   0,   0,   0,   0,   0,   8,  39, 213, 252, 252, 252,\n",
       "        252, 220,  74,   0,   0,   0,   0,   0,   0,   0,   0,   0,   0,\n",
       "          0,   0],\n",
       "       [  0,   0,   0,   0,   0,   0,   0,  60, 252, 252, 252, 252, 252,\n",
       "        252, 207,   0,   0,   0,   0,   0,   0,   0,   0,   0,   0,   0,\n",
       "          0,   0],\n",
       "       [  0,   0,   0,   0,   0,   0,   0,  60, 252, 252, 252, 252, 252,\n",
       "        115,  12,   0,   0,   0,   0,   0,   0,   0,   0,   0,   0,   0,\n",
       "          0,   0],\n",
       "       [  0,   0,   0,   0,   0,   0,   0,  60, 252, 252, 252, 220, 128,\n",
       "          4,   0,   0,   0,   0,   0,   0,   0,   0,   0,   0,   0,   0,\n",
       "          0,   0],\n",
       "       [  0,   0,   0,   0,   0,   0,   0,  25, 199, 252, 207,  30,   0,\n",
       "          0,   0,   0,   0,   0,   0,   0,   0,   0,   0,   0,   0,   0,\n",
       "          0,   0],\n",
       "       [  0,   0,   0,   0,   0,   0,   0,   0,   0,   0,   0,   0,   0,\n",
       "          0,   0,   0,   0,   0,   0,   0,   0,   0,   0,   0,   0,   0,\n",
       "          0,   0],\n",
       "       [  0,   0,   0,   0,   0,   0,   0,   0,   0,   0,   0,   0,   0,\n",
       "          0,   0,   0,   0,   0,   0,   0,   0,   0,   0,   0,   0,   0,\n",
       "          0,   0],\n",
       "       [  0,   0,   0,   0,   0,   0,   0,   0,   0,   0,   0,   0,   0,\n",
       "          0,   0,   0,   0,   0,   0,   0,   0,   0,   0,   0,   0,   0,\n",
       "          0,   0],\n",
       "       [  0,   0,   0,   0,   0,   0,   0,   0,   0,   0,   0,   0,   0,\n",
       "          0,   0,   0,   0,   0,   0,   0,   0,   0,   0,   0,   0,   0,\n",
       "          0,   0],\n",
       "       [  0,   0,   0,   0,   0,   0,   0,   0,   0,   0,   0,   0,   0,\n",
       "          0,   0,   0,   0,   0,   0,   0,   0,   0,   0,   0,   0,   0,\n",
       "          0,   0]], dtype=uint8)"
      ]
     },
     "execution_count": 10,
     "metadata": {},
     "output_type": "execute_result"
    }
   ],
   "source": [
    "x_train[4414]"
   ]
  },
  {
   "cell_type": "code",
   "execution_count": 11,
   "metadata": {},
   "outputs": [
    {
     "data": {
      "text/plain": [
       "<matplotlib.image.AxesImage at 0x1a14ef47688>"
      ]
     },
     "execution_count": 11,
     "metadata": {},
     "output_type": "execute_result"
    },
    {
     "data": {
      "image/png": "[encoded data removed]",
      "text/plain": [
       "<Figure size 432x288 with 1 Axes>"
      ]
     },
     "metadata": {
      "needs_background": "light"
     },
     "output_type": "display_data"
    }
   ],
   "source": [
    "plt.imshow(x_train[4414],cmap='Greys')"
   ]
  },
  {
   "cell_type": "code",
   "execution_count": 12,
   "metadata": {},
   "outputs": [
    {
     "data": {
      "text/plain": [
       "2"
      ]
     },
     "execution_count": 12,
     "metadata": {},
     "output_type": "execute_result"
    }
   ],
   "source": [
    "y_train[4414]"
   ]
  },
  {
   "cell_type": "markdown",
   "metadata": {},
   "source": [
    "## 輸入端必須被拉平"
   ]
  },
  {
   "cell_type": "code",
   "execution_count": 13,
   "metadata": {},
   "outputs": [],
   "source": [
    "x_train = x_train.reshape(60000,28*28)"
   ]
  },
  {
   "cell_type": "code",
   "execution_count": 14,
   "metadata": {},
   "outputs": [],
   "source": [
    "x_test = x_test.reshape(10000,28*28)"
   ]
  },
  {
   "cell_type": "code",
   "execution_count": 15,
   "metadata": {},
   "outputs": [
    {
     "data": {
      "text/plain": [
       "(784,)"
      ]
     },
     "execution_count": 15,
     "metadata": {},
     "output_type": "execute_result"
    }
   ],
   "source": [
    "x_train[4414].shape"
   ]
  },
  {
   "cell_type": "markdown",
   "metadata": {},
   "source": [
    "## One-Hot Enconding\n",
    "y值必須是連續的數字，然而1跟2之間有1.5等等的小數點存在，當電腦識別出1.5時會因不知道到底是1還是2，然而1跟2之間卻根本不應該辨識錯誤，長相差很多\n",
    "\n",
    "所以我們將y改成10維向量，ex:1 => [0,1,0,0,0,0,0,0,0,0]\n",
    "\n",
    "每個向量代表的都是他代表這個數字的機率，最小為0，最大值為1，相加總合則必須是1"
   ]
  },
  {
   "cell_type": "code",
   "execution_count": 16,
   "metadata": {},
   "outputs": [],
   "source": [
    "from keras.utils import np_utils"
   ]
  },
  {
   "cell_type": "code",
   "execution_count": 17,
   "metadata": {},
   "outputs": [],
   "source": [
    "y_train = np_utils.to_categorical(y_train,10)"
   ]
  },
  {
   "cell_type": "code",
   "execution_count": 18,
   "metadata": {},
   "outputs": [],
   "source": [
    "y_test = np_utils.to_categorical(y_test,10)"
   ]
  },
  {
   "cell_type": "code",
   "execution_count": 19,
   "metadata": {},
   "outputs": [
    {
     "data": {
      "text/plain": [
       "array([0., 0., 1., 0., 0., 0., 0., 0., 0., 0.], dtype=float32)"
      ]
     },
     "execution_count": 19,
     "metadata": {},
     "output_type": "execute_result"
    }
   ],
   "source": [
    "y_train[4414]"
   ]
  },
  {
   "cell_type": "markdown",
   "metadata": {},
   "source": [
    "## 建構神經網路"
   ]
  },
  {
   "cell_type": "code",
   "execution_count": 20,
   "metadata": {},
   "outputs": [],
   "source": [
    "from keras.models import Sequential\n",
    "from keras.layers import Dense, Activation\n",
    "from keras.optimizers import SGD"
   ]
  },
  {
   "cell_type": "code",
   "execution_count": 21,
   "metadata": {},
   "outputs": [
    {
     "name": "stdout",
     "output_type": "stream",
     "text": [
      "WARNING:tensorflow:From C:\\Cmmm998520\\software\\Python\\lib\\site-packages\\keras\\backend\\tensorflow_backend.py:74: The name tf.get_default_graph is deprecated. Please use tf.compat.v1.get_default_graph instead.\n",
      "\n"
     ]
    }
   ],
   "source": [
    "model = Sequential()"
   ]
  },
  {
   "cell_type": "code",
   "execution_count": 22,
   "metadata": {},
   "outputs": [
    {
     "name": "stdout",
     "output_type": "stream",
     "text": [
      "WARNING:tensorflow:From C:\\Cmmm998520\\software\\Python\\lib\\site-packages\\keras\\backend\\tensorflow_backend.py:517: The name tf.placeholder is deprecated. Please use tf.compat.v1.placeholder instead.\n",
      "\n",
      "WARNING:tensorflow:From C:\\Cmmm998520\\software\\Python\\lib\\site-packages\\keras\\backend\\tensorflow_backend.py:4138: The name tf.random_uniform is deprecated. Please use tf.random.uniform instead.\n",
      "\n"
     ]
    }
   ],
   "source": [
    "model.add(Dense(500,input_dim=784))\n",
    "model.add(Activation('sigmoid'))"
   ]
  },
  {
   "cell_type": "code",
   "execution_count": 23,
   "metadata": {},
   "outputs": [],
   "source": [
    "model.add(Dense(500))\n",
    "model.add(Activation('sigmoid'))"
   ]
  },
  {
   "cell_type": "code",
   "execution_count": 24,
   "metadata": {},
   "outputs": [],
   "source": [
    "model.add(Dense(10))\n",
    "model.add(Activation('softmax'))"
   ]
  },
  {
   "cell_type": "markdown",
   "metadata": {},
   "source": [
    "## 組裝神經網路"
   ]
  },
  {
   "cell_type": "code",
   "execution_count": 25,
   "metadata": {},
   "outputs": [
    {
     "name": "stdout",
     "output_type": "stream",
     "text": [
      "WARNING:tensorflow:From C:\\Cmmm998520\\software\\Python\\lib\\site-packages\\keras\\optimizers.py:790: The name tf.train.Optimizer is deprecated. Please use tf.compat.v1.train.Optimizer instead.\n",
      "\n"
     ]
    }
   ],
   "source": [
    "model.compile(loss='mse',optimizer=SGD(lr=0.1),metrics=['accuracy'])"
   ]
  },
  {
   "cell_type": "markdown",
   "metadata": {},
   "source": [
    "## summary\n",
    "可以看到組裝好的神經網路\n",
    "\n",
    "Param = （輸入數據維度+1）* 神經元個數"
   ]
  },
  {
   "cell_type": "code",
   "execution_count": 26,
   "metadata": {},
   "outputs": [
    {
     "name": "stdout",
     "output_type": "stream",
     "text": [
      "_________________________________________________________________\n",
      "Layer (type)                 Output Shape              Param #   \n",
      "=================================================================\n",
      "dense_1 (Dense)              (None, 500)               392500    \n",
      "_________________________________________________________________\n",
      "activation_1 (Activation)    (None, 500)               0         \n",
      "_________________________________________________________________\n",
      "dense_2 (Dense)              (None, 500)               250500    \n",
      "_________________________________________________________________\n",
      "activation_2 (Activation)    (None, 500)               0         \n",
      "_________________________________________________________________\n",
      "dense_3 (Dense)              (None, 10)                5010      \n",
      "_________________________________________________________________\n",
      "activation_3 (Activation)    (None, 10)                0         \n",
      "=================================================================\n",
      "Total params: 648,010\n",
      "Trainable params: 648,010\n",
      "Non-trainable params: 0\n",
      "_________________________________________________________________\n"
     ]
    }
   ],
   "source": [
    "model.summary()"
   ]
  },
  {
   "cell_type": "markdown",
   "metadata": {},
   "source": [
    "## 將神經網路畫成圖"
   ]
  },
  {
   "cell_type": "code",
   "execution_count": 27,
   "metadata": {},
   "outputs": [],
   "source": [
    "from keras.utils import plot_model\n",
    "plot_model(model, show_shapes=True, to_file='model01.png')"
   ]
  },
  {
   "cell_type": "markdown",
   "metadata": {},
   "source": [
    "![我的神經網路](model01.png)"
   ]
  },
  {
   "cell_type": "markdown",
   "metadata": {},
   "source": [
    "## 訓練神經網路"
   ]
  },
  {
   "cell_type": "code",
   "execution_count": 28,
   "metadata": {},
   "outputs": [
    {
     "name": "stdout",
     "output_type": "stream",
     "text": [
      "WARNING:tensorflow:From C:\\Cmmm998520\\software\\Python\\lib\\site-packages\\keras\\backend\\tensorflow_backend.py:986: The name tf.assign_add is deprecated. Please use tf.compat.v1.assign_add instead.\n",
      "\n",
      "WARNING:tensorflow:From C:\\Cmmm998520\\software\\Python\\lib\\site-packages\\keras\\backend\\tensorflow_backend.py:973: The name tf.assign is deprecated. Please use tf.compat.v1.assign instead.\n",
      "\n",
      "WARNING:tensorflow:From C:\\Cmmm998520\\software\\Python\\lib\\site-packages\\keras\\backend\\tensorflow_backend.py:2741: The name tf.Session is deprecated. Please use tf.compat.v1.Session instead.\n",
      "\n",
      "Epoch 1/100\n",
      "WARNING:tensorflow:From C:\\Cmmm998520\\software\\Python\\lib\\site-packages\\keras\\backend\\tensorflow_backend.py:174: The name tf.get_default_session is deprecated. Please use tf.compat.v1.get_default_session instead.\n",
      "\n",
      "WARNING:tensorflow:From C:\\Cmmm998520\\software\\Python\\lib\\site-packages\\keras\\backend\\tensorflow_backend.py:181: The name tf.ConfigProto is deprecated. Please use tf.compat.v1.ConfigProto instead.\n",
      "\n",
      "WARNING:tensorflow:From C:\\Cmmm998520\\software\\Python\\lib\\site-packages\\keras\\backend\\tensorflow_backend.py:190: The name tf.global_variables is deprecated. Please use tf.compat.v1.global_variables instead.\n",
      "\n",
      "WARNING:tensorflow:From C:\\Cmmm998520\\software\\Python\\lib\\site-packages\\keras\\backend\\tensorflow_backend.py:199: The name tf.is_variable_initialized is deprecated. Please use tf.compat.v1.is_variable_initialized instead.\n",
      "\n",
      "WARNING:tensorflow:From C:\\Cmmm998520\\software\\Python\\lib\\site-packages\\keras\\backend\\tensorflow_backend.py:206: The name tf.variables_initializer is deprecated. Please use tf.compat.v1.variables_initializer instead.\n",
      "\n",
      "60000/60000 [==============================] - 7s 111us/step - loss: 0.0818 - acc: 0.3615\n",
      "Epoch 2/100\n",
      "60000/60000 [==============================] - 6s 101us/step - loss: 0.0621 - acc: 0.6161\n",
      "Epoch 3/100\n",
      "60000/60000 [==============================] - 6s 108us/step - loss: 0.0449 - acc: 0.7782\n",
      "Epoch 4/100\n",
      "60000/60000 [==============================] - 6s 102us/step - loss: 0.0326 - acc: 0.8481\n",
      "Epoch 5/100\n",
      "60000/60000 [==============================] - 6s 103us/step - loss: 0.0254 - acc: 0.8739\n",
      "Epoch 6/100\n",
      "60000/60000 [==============================] - 6s 101us/step - loss: 0.0213 - acc: 0.8881\n",
      "Epoch 7/100\n",
      "60000/60000 [==============================] - 6s 102us/step - loss: 0.0187 - acc: 0.8976\n",
      "Epoch 8/100\n",
      "60000/60000 [==============================] - 6s 102us/step - loss: 0.0169 - acc: 0.9052\n",
      "Epoch 9/100\n",
      "60000/60000 [==============================] - 6s 102us/step - loss: 0.0156 - acc: 0.9103\n",
      "Epoch 10/100\n",
      "60000/60000 [==============================] - 6s 102us/step - loss: 0.0146 - acc: 0.9161\n",
      "Epoch 11/100\n",
      "60000/60000 [==============================] - 6s 103us/step - loss: 0.0137 - acc: 0.9199\n",
      "Epoch 12/100\n",
      "60000/60000 [==============================] - 6s 104us/step - loss: 0.0130 - acc: 0.9237\n",
      "Epoch 13/100\n",
      "60000/60000 [==============================] - 6s 104us/step - loss: 0.0124 - acc: 0.9269\n",
      "Epoch 14/100\n",
      "60000/60000 [==============================] - 6s 104us/step - loss: 0.0118 - acc: 0.9299\n",
      "Epoch 15/100\n",
      "60000/60000 [==============================] - 6s 93us/step - loss: 0.0113 - acc: 0.9330\n",
      "Epoch 16/100\n",
      "60000/60000 [==============================] - 4s 64us/step - loss: 0.0109 - acc: 0.9351\n",
      "Epoch 17/100\n",
      "60000/60000 [==============================] - 4s 64us/step - loss: 0.0105 - acc: 0.9382\n",
      "Epoch 18/100\n",
      "60000/60000 [==============================] - 5s 83us/step - loss: 0.0102 - acc: 0.9402\n",
      "Epoch 19/100\n",
      "60000/60000 [==============================] - 5s 78us/step - loss: 0.0098 - acc: 0.9427\n",
      "Epoch 20/100\n",
      "60000/60000 [==============================] - 4s 65us/step - loss: 0.0095 - acc: 0.9441\n",
      "Epoch 21/100\n",
      "60000/60000 [==============================] - 4s 64us/step - loss: 0.0092 - acc: 0.9456\n",
      "Epoch 22/100\n",
      "60000/60000 [==============================] - 4s 65us/step - loss: 0.0090 - acc: 0.9472\n",
      "Epoch 23/100\n",
      "60000/60000 [==============================] - 4s 64us/step - loss: 0.0087 - acc: 0.9489\n",
      "Epoch 24/100\n",
      "60000/60000 [==============================] - 4s 65us/step - loss: 0.0085 - acc: 0.9506\n",
      "Epoch 25/100\n",
      "60000/60000 [==============================] - 4s 67us/step - loss: 0.0082 - acc: 0.9518\n",
      "Epoch 26/100\n",
      "60000/60000 [==============================] - 4s 64us/step - loss: 0.0080 - acc: 0.9530\n",
      "Epoch 27/100\n",
      "60000/60000 [==============================] - 4s 65us/step - loss: 0.0078 - acc: 0.9547\n",
      "Epoch 28/100\n",
      "60000/60000 [==============================] - 4s 65us/step - loss: 0.0077 - acc: 0.9560\n",
      "Epoch 29/100\n",
      "60000/60000 [==============================] - 4s 64us/step - loss: 0.0075 - acc: 0.9571\n",
      "Epoch 30/100\n",
      "60000/60000 [==============================] - 4s 65us/step - loss: 0.0073 - acc: 0.9586\n",
      "Epoch 31/100\n",
      "60000/60000 [==============================] - 4s 65us/step - loss: 0.0071 - acc: 0.9595\n",
      "Epoch 32/100\n",
      "60000/60000 [==============================] - 4s 64us/step - loss: 0.0070 - acc: 0.9607\n",
      "Epoch 33/100\n",
      "60000/60000 [==============================] - 4s 64us/step - loss: 0.0068 - acc: 0.9612\n",
      "Epoch 34/100\n",
      "60000/60000 [==============================] - 4s 64us/step - loss: 0.0067 - acc: 0.9623\n",
      "Epoch 35/100\n",
      "60000/60000 [==============================] - 4s 64us/step - loss: 0.0065 - acc: 0.9631\n",
      "Epoch 36/100\n",
      "60000/60000 [==============================] - 4s 66us/step - loss: 0.0064 - acc: 0.9638\n",
      "Epoch 37/100\n",
      "60000/60000 [==============================] - 4s 63us/step - loss: 0.0063 - acc: 0.9645\n",
      "Epoch 38/100\n",
      "60000/60000 [==============================] - 4s 64us/step - loss: 0.0062 - acc: 0.9652\n",
      "Epoch 39/100\n",
      "60000/60000 [==============================] - 4s 63us/step - loss: 0.0061 - acc: 0.9656\n",
      "Epoch 40/100\n",
      "60000/60000 [==============================] - 4s 66us/step - loss: 0.0060 - acc: 0.9662: 1s \n",
      "Epoch 41/100\n",
      "60000/60000 [==============================] - 4s 64us/step - loss: 0.0059 - acc: 0.9671\n",
      "Epoch 42/100\n",
      "60000/60000 [==============================] - 5s 88us/step - loss: 0.0058 - acc: 0.9673\n",
      "Epoch 43/100\n",
      "60000/60000 [==============================] - ETA: 0s - loss: 0.0057 - acc: 0.967 - 8s 132us/step - loss: 0.0057 - acc: 0.9680\n",
      "Epoch 44/100\n",
      "60000/60000 [==============================] - 9s 147us/step - loss: 0.0056 - acc: 0.9686\n",
      "Epoch 45/100\n",
      "60000/60000 [==============================] - 8s 137us/step - loss: 0.0055 - acc: 0.9691\n",
      "Epoch 46/100\n",
      "60000/60000 [==============================] - 6s 107us/step - loss: 0.0054 - acc: 0.9694\n",
      "Epoch 47/100\n",
      "60000/60000 [==============================] - 7s 119us/step - loss: 0.0053 - acc: 0.9700\n",
      "Epoch 48/100\n",
      "60000/60000 [==============================] - 9s 148us/step - loss: 0.0052 - acc: 0.9703\n",
      "Epoch 49/100\n",
      "60000/60000 [==============================] - 4s 65us/step - loss: 0.0052 - acc: 0.9707\n",
      "Epoch 50/100\n",
      "60000/60000 [==============================] - 4s 65us/step - loss: 0.0051 - acc: 0.9711\n",
      "Epoch 51/100\n",
      "60000/60000 [==============================] - 4s 74us/step - loss: 0.0050 - acc: 0.9715\n",
      "Epoch 52/100\n",
      "60000/60000 [==============================] - 9s 149us/step - loss: 0.0050 - acc: 0.9720\n",
      "Epoch 53/100\n",
      "60000/60000 [==============================] - 9s 155us/step - loss: 0.0049 - acc: 0.9721\n",
      "Epoch 54/100\n",
      "60000/60000 [==============================] - 5s 85us/step - loss: 0.0048 - acc: 0.9724\n",
      "Epoch 55/100\n",
      "60000/60000 [==============================] - 8s 126us/step - loss: 0.0048 - acc: 0.9729\n",
      "Epoch 56/100\n",
      "60000/60000 [==============================] - 4s 67us/step - loss: 0.0047 - acc: 0.9730\n",
      "Epoch 57/100\n",
      "60000/60000 [==============================] - 5s 76us/step - loss: 0.0047 - acc: 0.9735\n",
      "Epoch 58/100\n",
      "60000/60000 [==============================] - 4s 65us/step - loss: 0.0046 - acc: 0.9738\n",
      "Epoch 59/100\n",
      "60000/60000 [==============================] - ETA: 0s - loss: 0.0046 - acc: 0.974 - 4s 66us/step - loss: 0.0046 - acc: 0.9740\n",
      "Epoch 60/100\n",
      "60000/60000 [==============================] - 4s 65us/step - loss: 0.0045 - acc: 0.9743\n",
      "Epoch 61/100\n",
      "60000/60000 [==============================] - 4s 65us/step - loss: 0.0045 - acc: 0.9745\n",
      "Epoch 62/100\n",
      "60000/60000 [==============================] - 4s 65us/step - loss: 0.0044 - acc: 0.9747\n",
      "Epoch 63/100\n",
      "60000/60000 [==============================] - 4s 66us/step - loss: 0.0044 - acc: 0.9748\n",
      "Epoch 64/100\n",
      "60000/60000 [==============================] - 4s 62us/step - loss: 0.0043 - acc: 0.9751\n",
      "Epoch 65/100\n",
      "60000/60000 [==============================] - 4s 62us/step - loss: 0.0043 - acc: 0.9755\n",
      "Epoch 66/100\n",
      "60000/60000 [==============================] - 4s 68us/step - loss: 0.0042 - acc: 0.9755\n",
      "Epoch 67/100\n",
      "60000/60000 [==============================] - 4s 70us/step - loss: 0.0042 - acc: 0.9757\n",
      "Epoch 68/100\n",
      "60000/60000 [==============================] - 4s 63us/step - loss: 0.0042 - acc: 0.9760\n",
      "Epoch 69/100\n",
      "60000/60000 [==============================] - 4s 63us/step - loss: 0.0041 - acc: 0.9763\n",
      "Epoch 70/100\n",
      "60000/60000 [==============================] - 4s 63us/step - loss: 0.0041 - acc: 0.9763\n",
      "Epoch 71/100\n",
      "60000/60000 [==============================] - 4s 62us/step - loss: 0.0041 - acc: 0.9765\n",
      "Epoch 72/100\n",
      "60000/60000 [==============================] - 4s 62us/step - loss: 0.0040 - acc: 0.9767\n",
      "Epoch 73/100\n",
      "60000/60000 [==============================] - 4s 62us/step - loss: 0.0040 - acc: 0.9769\n",
      "Epoch 74/100\n",
      "60000/60000 [==============================] - 4s 66us/step - loss: 0.0040 - acc: 0.9770\n",
      "Epoch 75/100\n",
      "60000/60000 [==============================] - 4s 68us/step - loss: 0.0039 - acc: 0.9772: 1s\n",
      "Epoch 76/100\n",
      "60000/60000 [==============================] - 4s 64us/step - loss: 0.0039 - acc: 0.9772\n",
      "Epoch 77/100\n",
      "60000/60000 [==============================] - 4s 65us/step - loss: 0.0039 - acc: 0.9775\n",
      "Epoch 78/100\n",
      "60000/60000 [==============================] - 4s 63us/step - loss: 0.0038 - acc: 0.9776\n",
      "Epoch 79/100\n",
      "60000/60000 [==============================] - 4s 63us/step - loss: 0.0038 - acc: 0.9777\n",
      "Epoch 80/100\n",
      "60000/60000 [==============================] - 4s 69us/step - loss: 0.0038 - acc: 0.9779\n",
      "Epoch 81/100\n",
      "60000/60000 [==============================] - 4s 68us/step - loss: 0.0038 - acc: 0.9781\n",
      "Epoch 82/100\n",
      "60000/60000 [==============================] - 4s 65us/step - loss: 0.0037 - acc: 0.9782\n",
      "Epoch 83/100\n",
      "60000/60000 [==============================] - 4s 63us/step - loss: 0.0037 - acc: 0.9783\n",
      "Epoch 84/100\n",
      "60000/60000 [==============================] - 4s 63us/step - loss: 0.0037 - acc: 0.9786\n",
      "Epoch 85/100\n",
      "60000/60000 [==============================] - 4s 63us/step - loss: 0.0036 - acc: 0.9789\n",
      "Epoch 86/100\n",
      "60000/60000 [==============================] - 4s 64us/step - loss: 0.0036 - acc: 0.9788\n",
      "Epoch 87/100\n",
      "60000/60000 [==============================] - 4s 64us/step - loss: 0.0036 - acc: 0.9791\n",
      "Epoch 88/100\n",
      "60000/60000 [==============================] - 5s 86us/step - loss: 0.0036 - acc: 0.9792\n",
      "Epoch 89/100\n",
      "60000/60000 [==============================] - 9s 142us/step - loss: 0.0035 - acc: 0.9793\n",
      "Epoch 90/100\n",
      "60000/60000 [==============================] - 9s 146us/step - loss: 0.0035 - acc: 0.9795\n",
      "Epoch 91/100\n",
      "60000/60000 [==============================] - 9s 152us/step - loss: 0.0035 - acc: 0.9796 0s - loss: 0.0035 - acc: 0.9\n",
      "Epoch 92/100\n",
      "60000/60000 [==============================] - 7s 124us/step - loss: 0.0035 - acc: 0.9798\n",
      "Epoch 93/100\n",
      "60000/60000 [==============================] - 6s 97us/step - loss: 0.0034 - acc: 0.9800\n",
      "Epoch 94/100\n",
      "60000/60000 [==============================] - 9s 144us/step - loss: 0.0034 - acc: 0.9801\n",
      "Epoch 95/100\n",
      "60000/60000 [==============================] - 9s 145us/step - loss: 0.0034 - acc: 0.9803\n",
      "Epoch 96/100\n",
      "60000/60000 [==============================] - 4s 74us/step - loss: 0.0034 - acc: 0.9801\n",
      "Epoch 97/100\n",
      "60000/60000 [==============================] - 9s 148us/step - loss: 0.0034 - acc: 0.9805\n",
      "Epoch 98/100\n",
      "60000/60000 [==============================] - 9s 149us/step - loss: 0.0033 - acc: 0.9805\n",
      "Epoch 99/100\n",
      "60000/60000 [==============================] - 5s 78us/step - loss: 0.0033 - acc: 0.9806\n",
      "Epoch 100/100\n",
      "60000/60000 [==============================] - 9s 144us/step - loss: 0.0033 - acc: 0.9807\n"
     ]
    },
    {
     "data": {
      "text/plain": [
       "<keras.callbacks.History at 0x1a150346d08>"
      ]
     },
     "execution_count": 28,
     "metadata": {},
     "output_type": "execute_result"
    }
   ],
   "source": [
    "model.fit(x_train, y_train, batch_size = 100, epochs = 100)"
   ]
  },
  {
   "cell_type": "code",
   "execution_count": 29,
   "metadata": {},
   "outputs": [],
   "source": [
    "from ipywidgets import interact_manual"
   ]
  },
  {
   "cell_type": "markdown",
   "metadata": {},
   "source": [
    "## predict_class\n",
    "讓系統從10個種類中選出機率最大的"
   ]
  },
  {
   "cell_type": "code",
   "execution_count": 30,
   "metadata": {},
   "outputs": [],
   "source": [
    "predict = model.predict_classes(x_test)"
   ]
  },
  {
   "cell_type": "code",
   "execution_count": 48,
   "metadata": {},
   "outputs": [],
   "source": [
    "def test(test_num):\n",
    "    plt.imshow(x_test[test_num].reshape(28,28), cmap = 'Greys')\n",
    "    print('Ans:{},AI:{}'.format(\n",
    "        y_test[test_num],\n",
    "        predict[test_num]))"
   ]
  },
  {
   "cell_type": "code",
   "execution_count": 49,
   "metadata": {},
   "outputs": [
    {
     "data": {
      "application/vnd.jupyter.widget-view+json": {
       "model_id": "e1e0f709de43424d95bd2bb56df083b4",
       "version_major": 2,
       "version_minor": 0
      },
      "text/plain": [
       "interactive(children=(IntSlider(value=4999, description='test_num', max=9999), Button(description='Run Interac…"
      ]
     },
     "metadata": {},
     "output_type": "display_data"
    },
    {
     "data": {
      "text/plain": [
       "<function __main__.test(test_num)>"
      ]
     },
     "execution_count": 49,
     "metadata": {},
     "output_type": "execute_result"
    }
   ],
   "source": [
    "interact_manual(test,test_num = (0,9999))"
   ]
  },
  {
   "cell_type": "code",
   "execution_count": 51,
   "metadata": {},
   "outputs": [],
   "source": [
    "model_json = model.to_json()\n",
    "open('nn_write_architecture.json','w').write(model_json)\n",
    "model.save_weights('nn_write_weight.h5')"
   ]
  },
  {
   "cell_type": "code",
   "execution_count": null,
   "metadata": {},
   "outputs": [],
   "source": []
  }
 ],
 "metadata": {
  "kernelspec": {
   "display_name": "Python 3",
   "language": "python",
   "name": "python3"
  },
  "language_info": {
   "codemirror_mode": {
    "name": "ipython",
    "version": 3
   },
   "file_extension": ".py",
   "mimetype": "text/x-python",
   "name": "python",
   "nbconvert_exporter": "python",
   "pygments_lexer": "ipython3",
   "version": "3.7.4"
  }
 },
 "nbformat": 4,
 "nbformat_minor": 2
}
